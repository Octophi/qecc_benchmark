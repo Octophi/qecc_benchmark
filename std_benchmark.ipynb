{
 "cells": [
  {
   "cell_type": "code",
   "execution_count": 24,
   "metadata": {
    "scrolled": true
   },
   "outputs": [
    {
     "name": "stdout",
     "output_type": "stream",
     "text": [
      "Qconfig loaded from C:\\Users\\ddrsq\\OneDrive\\IBM Q\\qecc_benchmark\\Qconfig.py.\n",
      "\n",
      "Available backends:  ['ibmqx2', 'ibmq_qasm_simulator', 'local_qasm_simulator', 'local_clifford_simulator', 'ibmqx4', 'local_statevector_simulator', 'ibmqx5', 'local_unitary_simulator']\n",
      "[['P 1  2  3  4']]\n",
      "Circuit is: ['P 1  2  3  4']\n",
      "Compiler is: 0\n",
      "{'0000': 428, '0001': 24, '0010': 17, '0011': 18, '0100': 11, '0101': 5, '0110': 6, '0111': 53, '1000': 6, '1001': 4, '1010': 2, '1011': 23, '1100': 32, '1101': 32, '1110': 72, '1111': 291}\n"
     ]
    },
    {
     "name": "stderr",
     "output_type": "stream",
     "text": [
      "Got a 400 code response to https://quantumexperience.ng.bluemix.net/api/Jobs/5b5215c8cb18f50037619a89?access_token=6QBfkq6Z4gBwW6VBXgZcYuAhsnEza3UKuZGnUCA3E1O0SzAAejfDU89p7IVk1u0F: {\"error\":{\"status\":400,\"message\":\"Generic error\",\"code\":\"GENERIC_ERROR\"}}\n",
      "Got a 400 code response to https://quantumexperience.ng.bluemix.net/api/Jobs/5b5215c8cb18f50037619a89?access_token=6QBfkq6Z4gBwW6VBXgZcYuAhsnEza3UKuZGnUCA3E1O0SzAAejfDU89p7IVk1u0F: {\"error\":{\"status\":400,\"message\":\"Generic error\",\"code\":\"GENERIC_ERROR\"}}\n"
     ]
    },
    {
     "name": "stdout",
     "output_type": "stream",
     "text": [
      "{'0000': 439, '0001': 15, '0010': 13, '0011': 21, '0100': 9, '0101': 3, '0110': 13, '0111': 37, '1000': 18, '1001': 3, '1010': 1, '1011': 11, '1100': 43, '1101': 31, '1110': 80, '1111': 287}\n",
      "{'0000': 429, '0001': 13, '0010': 14, '0011': 20, '0100': 9, '0101': 4, '0110': 10, '0111': 37, '1000': 13, '1001': 1, '1010': 9, '1011': 11, '1100': 40, '1101': 35, '1110': 85, '1111': 294}\n",
      "{'0000': 422, '0001': 11, '0010': 16, '0011': 26, '0100': 5, '0101': 6, '0110': 12, '0111': 31, '1000': 15, '1001': 1, '1010': 4, '1011': 20, '1100': 32, '1101': 30, '1110': 100, '1111': 293}\n",
      "{'0000': 432, '0001': 8, '0010': 11, '0011': 25, '0100': 1, '0101': 4, '0110': 10, '0111': 35, '1000': 12, '1001': 6, '1010': 2, '1011': 19, '1100': 34, '1101': 46, '1110': 102, '1111': 277}\n",
      "{'0000': 422, '0001': 12, '0010': 12, '0011': 22, '0100': 5, '0101': 5, '0110': 14, '0111': 26, '1000': 11, '1001': 5, '1010': 4, '1011': 14, '1100': 42, '1101': 34, '1110': 101, '1111': 295}\n"
     ]
    },
    {
     "name": "stderr",
     "output_type": "stream",
     "text": [
      "Got a 502 code response to https://quantumexperience.ng.bluemix.net/api/Jobs/5b5217af11322d003bf0fd81?access_token=6QBfkq6Z4gBwW6VBXgZcYuAhsnEza3UKuZGnUCA3E1O0SzAAejfDU89p7IVk1u0F: 502 Bad Gateway: Registered endpoint failed to handle the request.\n",
      "\n"
     ]
    },
    {
     "name": "stdout",
     "output_type": "stream",
     "text": [
      "{'0000': 395, '0001': 8, '0010': 9, '0011': 21, '0100': 8, '0101': 5, '0110': 14, '0111': 25, '1000': 26, '1001': 2, '1010': 8, '1011': 25, '1100': 35, '1101': 37, '1110': 107, '1111': 299}\n",
      "{'0000': 415, '0001': 9, '0010': 22, '0011': 25, '0100': 8, '0101': 6, '0110': 15, '0111': 49, '1000': 9, '1001': 5, '1010': 3, '1011': 14, '1100': 43, '1101': 49, '1110': 88, '1111': 264}\n"
     ]
    },
    {
     "name": "stderr",
     "output_type": "stream",
     "text": [
      "Got a 502 code response to https://quantumexperience.ng.bluemix.net/api/Jobs?access_token=6QBfkq6Z4gBwW6VBXgZcYuAhsnEza3UKuZGnUCA3E1O0SzAAejfDU89p7IVk1u0F: 502 Bad Gateway: Registered endpoint failed to handle the request.\n",
      "\n"
     ]
    },
    {
     "name": "stdout",
     "output_type": "stream",
     "text": [
      "{'0000': 439, '0001': 15, '0010': 9, '0011': 21, '0100': 11, '0101': 2, '0110': 10, '0111': 31, '1000': 13, '1001': 5, '1010': 7, '1011': 16, '1100': 39, '1101': 35, '1110': 94, '1111': 277}\n",
      "Average of success rates is: 0.8944266683711106\n",
      "\n",
      "Circuit is: ['P 1  2  3  4']\n",
      "Compiler is: 1\n",
      "{'0000': 7, '0001': 21, '0010': 30, '0011': 4, '0100': 43, '0101': 215, '0110': 20, '0111': 5, '1000': 55, '1001': 32, '1010': 349, '1011': 56, '1100': 25, '1101': 140, '1110': 15, '1111': 7}\n"
     ]
    },
    {
     "name": "stderr",
     "output_type": "stream",
     "text": [
      "Got a 502 code response to https://quantumexperience.ng.bluemix.net/api/Jobs/5b5219d40e4c1c00404c9069?access_token=6QBfkq6Z4gBwW6VBXgZcYuAhsnEza3UKuZGnUCA3E1O0SzAAejfDU89p7IVk1u0F: 502 Bad Gateway: Registered endpoint failed to handle the request.\n",
      "\n"
     ]
    },
    {
     "name": "stdout",
     "output_type": "stream",
     "text": [
      "{'0000': 9, '0001': 21, '0010': 31, '0011': 5, '0100': 45, '0101': 244, '0110': 17, '0111': 10, '1000': 45, '1001': 29, '1010': 339, '1011': 55, '1100': 30, '1101': 123, '1110': 13, '1111': 8}\n",
      "{'0000': 9, '0001': 23, '0010': 36, '0011': 7, '0100': 42, '0101': 269, '0110': 14, '0111': 9, '1000': 43, '1001': 32, '1010': 335, '1011': 51, '1100': 22, '1101': 106, '1110': 18, '1111': 8}\n",
      "{'0000': 8, '0001': 24, '0010': 35, '0011': 7, '0100': 52, '0101': 220, '0110': 21, '0111': 13, '1000': 57, '1001': 33, '1010': 335, '1011': 46, '1100': 22, '1101': 134, '1110': 16, '1111': 1}\n",
      "{'0000': 12, '0001': 20, '0010': 25, '0011': 1, '0100': 43, '0101': 253, '0110': 20, '0111': 12, '1000': 38, '1001': 43, '1010': 344, '1011': 53, '1100': 26, '1101': 113, '1110': 15, '1111': 6}\n",
      "{'0000': 3, '0001': 33, '0010': 30, '0011': 3, '0100': 38, '0101': 238, '0110': 19, '0111': 11, '1000': 44, '1001': 27, '1010': 371, '1011': 55, '1100': 25, '1101': 108, '1110': 17, '1111': 2}\n",
      "{'0000': 9, '0001': 21, '0010': 32, '0011': 2, '0100': 39, '0101': 248, '0110': 24, '0111': 10, '1000': 61, '1001': 35, '1010': 344, '1011': 50, '1100': 26, '1101': 104, '1110': 18, '1111': 1}\n",
      "{'0000': 4, '0001': 26, '0010': 28, '0011': 5, '0100': 46, '0101': 265, '0110': 14, '0111': 8, '1000': 39, '1001': 23, '1010': 386, '1011': 46, '1100': 20, '1101': 91, '1110': 19, '1111': 4}\n"
     ]
    },
    {
     "name": "stderr",
     "output_type": "stream",
     "text": [
      "Got a 502 code response to https://quantumexperience.ng.bluemix.net/api/Jobs/5b521d7c1494a10042e19a83?access_token=6QBfkq6Z4gBwW6VBXgZcYuAhsnEza3UKuZGnUCA3E1O0SzAAejfDU89p7IVk1u0F: 502 Bad Gateway: Registered endpoint failed to handle the request.\n",
      "\n"
     ]
    },
    {
     "name": "stdout",
     "output_type": "stream",
     "text": [
      "{'0000': 9, '0001': 25, '0010': 40, '0011': 4, '0100': 45, '0101': 238, '0110': 21, '0111': 5, '1000': 42, '1001': 27, '1010': 356, '1011': 50, '1100': 28, '1101': 115, '1110': 13, '1111': 6}\n",
      "Average of success rates is: 0.8659764811839378\n",
      "\n",
      "Circuit is: ['P 1  2  3  4']\n",
      "Compiler is: 2\n",
      "{'0000': 23, '0001': 30, '0010': 67, '0011': 353, '0100': 46, '0101': 9, '0110': 5, '0111': 9, '1000': 22, '1001': 9, '1010': 2, '1011': 6, '1100': 334, '1101': 59, '1110': 21, '1111': 29}\n"
     ]
    },
    {
     "name": "stderr",
     "output_type": "stream",
     "text": [
      "Got a 502 code response to https://quantumexperience.ng.bluemix.net/api/Backends?access_token=6QBfkq6Z4gBwW6VBXgZcYuAhsnEza3UKuZGnUCA3E1O0SzAAejfDU89p7IVk1u0F: 502 Bad Gateway: Registered endpoint failed to handle the request.\n",
      "\n"
     ]
    },
    {
     "name": "stdout",
     "output_type": "stream",
     "text": [
      "{'0000': 46, '0001': 16, '0010': 54, '0011': 329, '0100': 39, '0101': 5, '0110': 2, '0111': 12, '1000': 30, '1001': 3, '1010': 2, '1011': 7, '1100': 383, '1101': 45, '1110': 21, '1111': 30}\n"
     ]
    },
    {
     "name": "stderr",
     "output_type": "stream",
     "text": [
      "Got a 502 code response to https://quantumexperience.ng.bluemix.net/api/Jobs/5b521fa41494a10042e19a8a?access_token=6QBfkq6Z4gBwW6VBXgZcYuAhsnEza3UKuZGnUCA3E1O0SzAAejfDU89p7IVk1u0F: 502 Bad Gateway: Registered endpoint failed to handle the request.\n",
      "\n"
     ]
    },
    {
     "name": "stdout",
     "output_type": "stream",
     "text": [
      "{'0000': 29, '0001': 21, '0010': 62, '0011': 339, '0100': 38, '0101': 1, '0110': 6, '0111': 3, '1000': 25, '1001': 5, '1010': 6, '1011': 7, '1100': 379, '1101': 53, '1110': 18, '1111': 32}\n",
      "{'0000': 31, '0001': 34, '0010': 45, '0011': 337, '0100': 33, '0101': 3, '0110': 1, '0111': 5, '1000': 27, '1001': 6, '1010': 1, '1011': 15, '1100': 370, '1101': 54, '1110': 27, '1111': 35}\n"
     ]
    },
    {
     "name": "stderr",
     "output_type": "stream",
     "text": [
      "Got a 502 code response to https://quantumexperience.ng.bluemix.net/api/Jobs/5b522121ea66920037f4e821?access_token=6QBfkq6Z4gBwW6VBXgZcYuAhsnEza3UKuZGnUCA3E1O0SzAAejfDU89p7IVk1u0F: 502 Bad Gateway: Registered endpoint failed to handle the request.\n",
      "\n",
      "Got a 502 code response to https://quantumexperience.ng.bluemix.net/api/Jobs/5b522121ea66920037f4e821?access_token=6QBfkq6Z4gBwW6VBXgZcYuAhsnEza3UKuZGnUCA3E1O0SzAAejfDU89p7IVk1u0F: 502 Bad Gateway: Registered endpoint failed to handle the request.\n",
      "\n"
     ]
    },
    {
     "name": "stdout",
     "output_type": "stream",
     "text": [
      "{'0000': 35, '0001': 38, '0010': 50, '0011': 315, '0100': 33, '0101': 8, '0110': 7, '0111': 6, '1000': 32, '1001': 4, '1010': 3, '1011': 10, '1100': 399, '1101': 44, '1110': 18, '1111': 22}\n",
      "{'0000': 31, '0001': 20, '0010': 59, '0011': 344, '0100': 56, '0101': 3, '0110': 4, '0111': 5, '1000': 30, '1001': 8, '1010': 3, '1011': 7, '1100': 341, '1101': 58, '1110': 22, '1111': 33}\n",
      "{'0000': 29, '0001': 37, '0010': 68, '0011': 355, '0100': 37, '0101': 6, '0110': 4, '0111': 3, '1000': 32, '1001': 3, '1010': 3, '1011': 13, '1100': 342, '1101': 55, '1110': 19, '1111': 18}\n",
      "{'0000': 39, '0001': 28, '0010': 65, '0011': 334, '0100': 47, '0101': 7, '0110': 3, '0111': 4, '1000': 27, '1001': 4, '1010': 3, '1011': 5, '1100': 358, '1101': 54, '1110': 24, '1111': 22}\n",
      "{'0000': 35, '0001': 39, '0010': 61, '0011': 350, '0100': 45, '0101': 11, '0110': 8, '0111': 3, '1000': 25, '1001': 6, '1010': 2, '1011': 14, '1100': 323, '1101': 58, '1110': 18, '1111': 26}\n",
      "Average of success rates is: 0.8983906868017816\n",
      "\n",
      "Circuit is: ['P 1  2  3  4']\n",
      "Compiler is: 3\n",
      "{'0000': 15, '0001': 28, '0010': 23, '0100': 36, '0101': 19, '0110': 281, '0111': 4, '1000': 135, '1001': 284, '1010': 30, '1011': 11, '1100': 21, '1101': 19, '1110': 112, '1111': 6}\n",
      "{'0000': 17, '0001': 29, '0010': 29, '0011': 2, '0100': 14, '0101': 18, '0110': 267, '0111': 12, '1000': 111, '1001': 328, '1010': 39, '1011': 18, '1100': 14, '1101': 15, '1110': 108, '1111': 3}\n",
      "{'0000': 10, '0001': 30, '0010': 25, '0100': 27, '0101': 16, '0110': 263, '0111': 13, '1000': 132, '1001': 297, '1010': 48, '1011': 18, '1100': 17, '1101': 21, '1110': 100, '1111': 7}\n",
      "{'0000': 11, '0001': 31, '0010': 26, '0011': 3, '0100': 33, '0101': 24, '0110': 261, '0111': 4, '1000': 123, '1001': 306, '1010': 49, '1011': 17, '1100': 12, '1101': 13, '1110': 107, '1111': 4}\n",
      "{'0000': 20, '0001': 31, '0010': 23, '0011': 1, '0100': 35, '0101': 13, '0110': 269, '0111': 8, '1000': 91, '1001': 347, '1010': 24, '1011': 16, '1100': 15, '1101': 15, '1110': 113, '1111': 3}\n",
      "{'0000': 15, '0001': 33, '0010': 18, '0011': 3, '0100': 32, '0101': 15, '0110': 272, '0111': 9, '1000': 106, '1001': 321, '1010': 29, '1011': 14, '1100': 16, '1101': 19, '1110': 117, '1111': 5}\n",
      "{'0000': 18, '0001': 30, '0010': 22, '0011': 4, '0100': 26, '0101': 19, '0110': 282, '0111': 5, '1000': 112, '1001': 316, '1010': 33, '1011': 17, '1100': 14, '1101': 18, '1110': 104, '1111': 4}\n",
      "{'0000': 23, '0001': 20, '0010': 20, '0011': 1, '0100': 24, '0101': 14, '0110': 269, '0111': 14, '1000': 118, '1001': 330, '1010': 35, '1011': 27, '1100': 13, '1101': 17, '1110': 97, '1111': 2}\n",
      "{'0000': 13, '0001': 40, '0010': 18, '0011': 2, '0100': 26, '0101': 15, '0110': 285, '0111': 6, '1000': 113, '1001': 318, '1010': 31, '1011': 21, '1100': 12, '1101': 18, '1110': 102, '1111': 4}\n",
      "Average of success rates is: 0.8684632349897691\n",
      "\n",
      "Time running: 4570.029772520065\n"
     ]
    }
   ],
   "source": [
    "# Author: Joey Li, Atsushi Hu, Becca Shapiro\n",
    "# Last Updated: 7/20/2018\n",
    "\n",
    "# This runs a benchmarking procedure on a given IBM Q backend for whatever circuits you specify.\n",
    "# To calculate success rate, specify your desired outputs. The desired outputs can be obtained\n",
    "# by first running on the local_qasm_simulator to get an idea of what the outputs should be.\n",
    "\n",
    "# You may repurpose this script as needed. \n",
    "\n",
    "from qiskit import QuantumCircuit, ClassicalRegister, QuantumRegister, QISKitError\n",
    "from qiskit import available_backends, register, execute, get_backend\n",
    "from qiskit.tools.visualization import circuit_drawer, plot_histogram, plot_state\n",
    "from qiskit.tools.qi.qi import state_fidelity\n",
    "import random, pickle, time, datetime, xlsxwriter\n",
    "import numpy as np\n",
    "import scipy.io as spio\n",
    "import importlib\n",
    "import circuit_builder\n",
    "importlib.reload(circuit_builder)\n",
    "import encoding_schemes\n",
    "importlib.reload(encoding_schemes)\n",
    "\n",
    "#setup\n",
    "import sys, getpass\n",
    "try:\n",
    "    sys.path.append(\"../../\") # go to parent dir\n",
    "    import Qconfig\n",
    "    qx_config = {\n",
    "        \"APItoken\": Qconfig.APItoken,\n",
    "        \"url\": Qconfig.config['url']}\n",
    "    print('Qconfig loaded from %s.' % Qconfig.__file__)\n",
    "    print()\n",
    "except:\n",
    "    APItoken = getpass.getpass('Please input your token and hit enter: ')\n",
    "    qx_config = {\n",
    "        \"APItoken\": APItoken,\n",
    "        \"url\":\"https://quantumexperience.ng.bluemix.net/api\"}\n",
    "    print('Qconfig.py not found in qiskit-tutorial directory; Qconfig loaded using user input.')\n",
    "    \n",
    "#matlab stuff\n",
    "import matplotlib.pyplot as plt\n",
    "%matplotlib inline\n",
    "import numpy as np\n",
    "from numpy import matrix\n",
    "from math import pi\n",
    "\n",
    "#set \n",
    "QX_URL = \"https://quantumexperience.ng.bluemix.net/api\"\n",
    "QX_TOKEN = \"06704f99fc6dd68ab5ae2663f0861723406de8b4553cacdabdf500292c937717442daa90c2ffa19109cfb9114adb7c87711a08860d34d1da9332ac664e4e24a7\"\n",
    "\n",
    "#register token and url\n",
    "register(QX_TOKEN, QX_URL)\n",
    "\n",
    "# query for available backends\n",
    "print(\"Available backends: \", available_backends())\n",
    "\n",
    "backend = \"ibmqx4\"\n",
    "\n",
    "# This function deals with the case when circuits contains a length one circuit, which is parsed\n",
    "# as a string rather than an array. If we find a string we just return it\n",
    "def hasString(circuits):\n",
    "    strings = []\n",
    "    newArray = []\n",
    "    for element in circuits:\n",
    "        if isinstance(element,np.ndarray):\n",
    "            newArray.append(element)\n",
    "            continue\n",
    "        else:\n",
    "            strings.append(element)\n",
    "    strings = np.asanyarray(strings)\n",
    "    return [strings[0]]\n",
    "    \n",
    "        \n",
    "\n",
    "# This function is not robust. Ties between circuits of equal length are broken arbitrarily.\n",
    "# Sometimes, it may matter, because two implementations that are the same length may involve\n",
    "# different numbers of gates and may have different performances. However, from current data,\n",
    "# it seems that the shortest circuit is usually unique, so this is not currently a concern.\n",
    "def getShortest(circuits):\n",
    "    circuit = hasString(circuits)\n",
    "    if circuit is None:\n",
    "        circuit = min(circuits, key = len)\n",
    "    return [circuit]\n",
    "\n",
    "# Code for extracting gate constructions\n",
    "extract = spio.loadmat('shortnormgates.mat', squeeze_me = True)\n",
    "CZ = extract['CZnorm']\n",
    "\n",
    "# IMPORTANT SETTINGS\n",
    "# Update the scheme to reflect your encoding scheme\n",
    "scheme = encoding_schemes.FourTwoTwo()\n",
    "\n",
    "# Update desired outputs to reflect your circuit\n",
    "desiredOutputs = [[\"0000\",\"1111\"], [\"0101\",\"1010\"], [\"1100\",\"0011\"],[\"0110\",\"1001\"]]\n",
    "#desiredOutputs = [[\"00\"], [\"10\"], [\"01\"], [\"11\"]]\n",
    "\n",
    "# Initial compilers for 00, 01, 10, 11, currently only works for two qubits\n",
    "initialStates = [0,1,2,3]\n",
    "\n",
    "# How many reps you want each circuit (including state preparation) to run\n",
    "reps = 9\n",
    "\n",
    "# Specify circuits you want to run\n",
    "# If you specify your circuits by hand, insert an array of circuits, where each circuit is array of strings.\n",
    "# Also note that the circuit builder assumes you number qubits 1 to n, and will output your results in that\n",
    "# order as well.\n",
    "circuits = CZ\n",
    "\n",
    "# Keep this if you only want the shortest circuit\n",
    "circuits = getShortest(circuits)\n",
    "print(circuits)\n",
    "\n",
    "\n",
    "\n",
    "# These update automatically with the scheme\n",
    "n = scheme.n\n",
    "validOutputs = scheme.validOutputs\n",
    "\n",
    "startTime = time.time()\n",
    "\n",
    "# Main benchmarking procedure\n",
    "for circuit in circuits:\n",
    "    \n",
    "    for compiler in initialStates:\n",
    "        print(\"Circuit is: \"+str(circuit))\n",
    "        print(\"Compiler is: \"+str(compiler))\n",
    "            \n",
    "        avgSuccess = 0\n",
    "\n",
    "        for trial in range(reps):\n",
    "            \n",
    "            # Standard setup\n",
    "            qr = QuantumRegister(n)\n",
    "            cr = ClassicalRegister(n)\n",
    "            qc = QuantumCircuit(qr,cr)\n",
    "            \n",
    "            # Sets the input\n",
    "            scheme.prepareZeros(qc)\n",
    "            \n",
    "            # Maps the input info into actual physical qubits. Qubits 1 to n are displayed left to right in that order\n",
    "            perm = scheme.perm\n",
    "            scheme.setPerm()\n",
    "            \n",
    "            # Sets our initial state to 00, 01, 10, or 11 as appropriate\n",
    "            scheme.setInput(qc, compiler)\n",
    "            \n",
    "            # Build the circuit\n",
    "            registerPerm = circuit_builder.buildCirc(qc, circuit, perm)\n",
    "            \n",
    "            # Register perm makes sure measurements go to right registers\n",
    "            for i in range(n):\n",
    "                qc.measure(qr[registerPerm[i]],cr[i])\n",
    "            \n",
    "            # Standard execution code\n",
    "            job = execute(qc, backend)\n",
    "            result = job.result()\n",
    "            data = result.get_counts(qc)\n",
    "            \n",
    "            # Prints raw data\n",
    "            print(data)\n",
    "            \n",
    "            # Clean and process data\n",
    "            successes = 0\n",
    "            totalValid = 0\n",
    "            for key, value in data.items():\n",
    "                if key in desiredOutputs[compiler]:\n",
    "                    successes += value\n",
    "                if key in validOutputs:\n",
    "                    totalValid += value\n",
    "            \n",
    "            # If we hit this, something went very wrong with our specification of desiredOutputs\n",
    "            if totalValid == 0:\n",
    "                print(\"ERROR WITH VALID INPUTS\")\n",
    "                \n",
    "            else:\n",
    "                # print(\"Success rate is: \"+ str(successes/totalValid))\n",
    "                avgSuccess += successes/totalValid\n",
    "        \n",
    "        # Calculate and display information\n",
    "        avgSuccess /= reps\n",
    "        print(\"Average of success rates is: \"+ str(avgSuccess)+ \"\\n\")\n",
    "\n",
    "endTime = time.time()\n",
    "print(\"Time running: \"+str(endTime-startTime))"
   ]
  },
  {
   "cell_type": "code",
   "execution_count": null,
   "metadata": {},
   "outputs": [],
   "source": []
  }
 ],
 "metadata": {
  "kernelspec": {
   "display_name": "Python 3",
   "language": "python",
   "name": "python3"
  },
  "language_info": {
   "codemirror_mode": {
    "name": "ipython",
    "version": 3
   },
   "file_extension": ".py",
   "mimetype": "text/x-python",
   "name": "python",
   "nbconvert_exporter": "python",
   "pygments_lexer": "ipython3",
   "version": "3.6.5"
  }
 },
 "nbformat": 4,
 "nbformat_minor": 2
}
